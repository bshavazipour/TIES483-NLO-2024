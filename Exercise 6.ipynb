{
 "cells": [
  {
   "attachments": {},
   "cell_type": "markdown",
   "metadata": {},
   "source": [
    "## Exercise 6\n",
    "* Due: 22.2. at 14:00\n",
    "* Max points: 4"
   ]
  },
  {
   "attachments": {},
   "cell_type": "markdown",
   "metadata": {},
   "source": [
    "## General rules\n",
    "* **Submit your answers by using Moodle.** The link is <a href=\"https://moodle.jyu.fi/mod/assign/view.php?id=884574\">https://moodle.jyu.fi/mod/assign/view.php?id=884574&forceview=1</a>.\n",
    "* Name your file as *lastname_ex6.xxx*. If you have multiple files, use *lastname_ex6_1.xxx, lastname_ex6_2.xxx* etc.\n",
    "* **Remember to add comments to your answers and include also some testing part!**"
   ]
  },
  {
   "attachments": {},
   "cell_type": "markdown",
   "metadata": {},
   "source": [
    "## Exercises\n",
    "\n",
    "1. **(2 points)** Study multiobjective optimization problem\n",
    "$$\n",
    "\\begin{align}\n",
    "\\min & \\{\\|x-(1,0)\\|^2,\\|x-(0,1)\\|^2\\}\\\\\n",
    "\\text{s.t. }&x\\in \\mathbb R^2.\n",
    "\\end{align}\n",
    "$$\n",
    "Characterize algebraically  (i.e. give a mathematical formulation) the full set of Pareto optimal solutions.\n",
    "\n",
    "\n",
    "2. **(2 points)** Calculate the ideal and nadir vectors for the above bi-objective problem. You can use any method available."
   ]
  }
 ],
 "metadata": {
  "anaconda-cloud": {},
  "kernelspec": {
   "display_name": "Python 3",
   "language": "python",
   "name": "python3"
  },
  "language_info": {
   "codemirror_mode": {
    "name": "ipython",
    "version": 3
   },
   "file_extension": ".py",
   "mimetype": "text/x-python",
   "name": "python",
   "nbconvert_exporter": "python",
   "pygments_lexer": "ipython3",
   "version": "3.8.8"
  }
 },
 "nbformat": 4,
 "nbformat_minor": 1
}
