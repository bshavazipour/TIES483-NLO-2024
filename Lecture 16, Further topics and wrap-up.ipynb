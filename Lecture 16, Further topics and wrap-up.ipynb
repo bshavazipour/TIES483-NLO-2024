{
 "cells": [
  {
   "attachments": {},
   "cell_type": "markdown",
   "metadata": {
    "slideshow": {
     "slide_type": "slide"
    }
   },
   "source": [
    "# Lecture 16, Further topics and wrap-up"
   ]
  },
  {
   "attachments": {},
   "cell_type": "markdown",
   "metadata": {
    "slideshow": {
     "slide_type": "slide"
    }
   },
   "source": [
    "## Black box surrogate-based global optimization"
   ]
  },
  {
   "attachments": {},
   "cell_type": "markdown",
   "metadata": {
    "slideshow": {
     "slide_type": "subslide"
    }
   },
   "source": [
    "In the current course, (almost) all the models have been based on algebraic equations. \n",
    "\n",
    "However, in many cases, you do not have algebraic equations describing the problem, but instead you have a software or a piece of code that can calculate the values for you."
   ]
  },
  {
   "attachments": {},
   "cell_type": "markdown",
   "metadata": {
    "slideshow": {
     "slide_type": "fragment"
    }
   },
   "source": [
    "In many cases like this, you need to treat the model as a **\"black box\"**, which means that you only know what goes in and what comes out."
   ]
  },
  {
   "attachments": {},
   "cell_type": "markdown",
   "metadata": {
    "slideshow": {
     "slide_type": "fragment"
    }
   },
   "source": [
    "To solve the problem, you have a (limited) budget of expensive function evaluations to be used. Thus, your method is going to have to be intelligent in how to figure out which solutions to evaluate and which not."
   ]
  },
  {
   "attachments": {},
   "cell_type": "markdown",
   "metadata": {
    "slideshow": {
     "slide_type": "subslide"
    }
   },
   "source": [
    "In addition, these models may be highly nonconvex and, thus, you are going to have to use *global optimization methods*.\n",
    "\n",
    "The methods described in this course are so-called local optimization methods. Local optimization methods are highly efficient in finding a local minimum of a problem, but they cannot guarantee global optimum."
   ]
  },
  {
   "attachments": {},
   "cell_type": "markdown",
   "metadata": {
    "slideshow": {
     "slide_type": "fragment"
    }
   },
   "source": [
    "Global optimization methods need to have some strategy for searching as much as possible of the search space."
   ]
  },
  {
   "attachments": {},
   "cell_type": "markdown",
   "metadata": {
    "slideshow": {
     "slide_type": "fragment"
    }
   },
   "source": [
    "In global optimization, there is the so-called **exploration vs. exploitation** ratio. Exploitation means that the method is basically acting as a local optimization method to find the nearest local optimum and exploration means that the method uses some strategy to try to find other local optima."
   ]
  },
  {
   "attachments": {},
   "cell_type": "markdown",
   "metadata": {
    "slideshow": {
     "slide_type": "fragment"
    }
   },
   "source": [
    "So-called **soft-computing** methods are very popular, although others also exist."
   ]
  },
  {
   "attachments": {},
   "cell_type": "markdown",
   "metadata": {
    "slideshow": {
     "slide_type": "subslide"
    }
   },
   "source": [
    "Finally, these black box models are often **computationally expensive** w.r.t. to time, resources, money, or life. For example, evaluating objective functions requires \n",
    "* doing some lab experiments that cost a lot and also take a lot of time or\n",
    "* a numerical simulation based on, e.g., solving partial differential equations.\n",
    "\n",
    "Therefore, evaluation times for the objectives can range from minutes to days. In practice this means that only a very limited number of function evaluations (tens or 100-200) can be performed and a special attention has to be paid in which values of the decision variables these evaluations are done. "
   ]
  },
  {
   "attachments": {},
   "cell_type": "markdown",
   "metadata": {
    "slideshow": {
     "slide_type": "subslide"
    }
   },
   "source": [
    "One approach is to use a so-called **surrogate** to save function calls to the black box model. A **surrogate** is a function that can be used to approximate the original objective (or constraint) function but is fast to evaluate. A set of sample points with the original functions is needed to train the surrogate for approximating the original function. This is illustrated below. The approach is called **surrogate-assisted optimization**.\n",
    "\n",
    "![alt text](images/surrogate.png \"Surrogate\")\n",
    "\n",
    "<i>Figure by Mohammad Tabatabaei</i>"
   ]
  },
  {
   "attachments": {},
   "cell_type": "markdown",
   "metadata": {
    "slideshow": {
     "slide_type": "subslide"
    }
   },
   "source": [
    "In practice, this means that there is a clever way of \n",
    "1. deciding whether to evaluate a solution with the black-box model or the surrogate model, and\n",
    "2. when to update the surrogate with solutions evaluated using the black-box."
   ]
  },
  {
   "attachments": {},
   "cell_type": "markdown",
   "metadata": {
    "slideshow": {
     "slide_type": "fragment"
    }
   },
   "source": [
    "Usual surrogates are neural networks, radial basis functions and Kriging models/Gaussian processes. When Bayesian models are used like Gaussian processes, the term **Bayesian optimization** is often used."
   ]
  },
  {
   "attachments": {},
   "cell_type": "markdown",
   "metadata": {
    "slideshow": {
     "slide_type": "subslide"
    }
   },
   "source": [
    "More information on surrogate-assisted optimization can be found e.g. in\n",
    "* <a href=\"https://www.sciencedirect.com/science/article/abs/pii/S2210650211000198\">Y. Jin, **Surrogate-assisted evolutionary computation: Recent advances and future challenges**, *Swarm and Evolutionary Computation*, 1 (2), 61-70, 2011</a>\n",
    "* <a href=\"https://link.springer.com/article/10.1007/s00158-015-1226-z\">M. Tabatabaei et al., **A survey on handling computationally expensive multiobjective optimization problems using surrogates: non-nature inspired methods**, *Structural and Multidisciplinary Optimization*, 52 (1), 1-25, 2015</a>\n",
    "* <a href=\"https://link.springer.com/chapter/10.1007/978-3-030-18764-4_10\"> Stork J. et al., **Open Issues in Surrogate-Assisted Optimization**, In: Bartz-Beielstein T., Filipič B., Korošec P., Talbi EG. (eds) *High-Performance Simulation-Based Optimization*, Springer, 2020</a>"
   ]
  },
  {
   "attachments": {},
   "cell_type": "markdown",
   "metadata": {
    "slideshow": {
     "slide_type": "-"
    }
   },
   "source": [
    "Recent PhD thesis related to using surrogates in optimization: \n",
    "* Tomi Haanpää, https://jyx.jyu.fi/handle/123456789/40501\n",
    "* Mohammad Tabatabaei, https://jyx.jyu.fi/handle/123456789/52165\n",
    "* Tinkle Chugh, https://jyx.jyu.fi/handle/123456789/54314\n"
   ]
  },
  {
   "attachments": {},
   "cell_type": "markdown",
   "metadata": {
    "slideshow": {
     "slide_type": "slide"
    }
   },
   "source": [
    "## Connecting \"(Big) Data\" and optimization (data-driven optimization)\n",
    "### Also called prescriptive analytics"
   ]
  },
  {
   "attachments": {},
   "cell_type": "markdown",
   "metadata": {
    "slideshow": {
     "slide_type": "subslide"
    }
   },
   "source": [
    "Sometimes, the model of the problem is not based on an algebraic model, nor a computer program, but instead you have (e.g., measured) data about the phenomena concerning the problem. "
   ]
  },
  {
   "attachments": {},
   "cell_type": "markdown",
   "metadata": {
    "slideshow": {
     "slide_type": "fragment"
    }
   },
   "source": [
    "**This raises completely new kind of problems.**"
   ]
  },
  {
   "attachments": {},
   "cell_type": "markdown",
   "metadata": {
    "slideshow": {
     "slide_type": "subslide"
    }
   },
   "source": [
    "Dealing with \"Big Data\", you have to deal with the four v:s:\n",
    "* volume:\n",
    "  * the data is actually big and you need to have specific tools for accessing it\n",
    "  * in addition, one needs to figure out what is the relevant data\n",
    "* variety:\n",
    "  * the data is in completely different formats and you may have to deal with all of them (e.g., video, spread sheets, natural language),\n",
    "* velocity:\n",
    "  * the data is constantly changing and more data is being gathered,\n",
    "* veracity:\n",
    "  * the data is bad and untrusworthy, \n",
    "  * there is a lot of missing data. "
   ]
  },
  {
   "attachments": {},
   "cell_type": "markdown",
   "metadata": {
    "slideshow": {
     "slide_type": "subslide"
    }
   },
   "source": [
    "## An example of prescriptive analytics \n",
    "(by Jean Francois Puget, IBM, 2014)\n",
    "\n",
    "* You are in a yacht race: What would you use to maneuver your ship to reach your destination as fast as possible?\n",
    "* Naturally, the speed of your boat depends on the wind strength and direction"
   ]
  },
  {
   "attachments": {},
   "cell_type": "markdown",
   "metadata": {
    "slideshow": {
     "slide_type": "fragment"
    }
   },
   "source": [
    "* First thing to utilize are weather reports (**descriptive analytics**) that tell you the current (and past) wind direction and speed. Based on that one can adjust the direction of the boat to move as fast as possible towards the goal."
   ]
  },
  {
   "attachments": {},
   "cell_type": "markdown",
   "metadata": {
    "slideshow": {
     "slide_type": "fragment"
    }
   },
   "source": [
    "* When you start sailing, the direction and the speed of wind will change -> you have to change your course\n",
    "* Now, weather forecasts (**predictive analytics**) can be used to predict how the wind changes in the (near) future"
   ]
  },
  {
   "attachments": {},
   "cell_type": "markdown",
   "metadata": {
    "slideshow": {
     "slide_type": "fragment"
    }
   },
   "source": [
    "* Your destination is several days/weeks ahead, how to use weather predictions? \n",
    "* Your route can be optimized based on a given weather forecast (**prescriptive analytics**) and this will give you the fastest route to your destination\n"
   ]
  },
  {
   "attachments": {},
   "cell_type": "markdown",
   "metadata": {
    "slideshow": {
     "slide_type": "subslide"
    }
   },
   "source": [
    "E.g., a paper about combining local optimization and big data \n",
    "\n",
    " * <a href=\"http://ieeexplore.ieee.org/xpls/abs_all.jsp?arnumber=6879615&tag=1\">V. Cevher et al., **Convex Optimization for Big Data: Scalable, randomized, and parallel algorithms for big data analytics**, *IEEE Signal Processing Magazine*, 31 (5), 32-43, 2014</a>\n",
    "\n",
    "More recent paper dealing with evolutionary approaches and data: \n",
    "\n",
    " * <a href=\"https://ieeexplore.ieee.org/document/8456559\">Y. Jin et al., **Data-Driven Evolutionary Optimization: An Overview and Case Studies**, *IEEE Transactions on Evolutionary Computation*, 23 (3), 442-458, 2019 </a>"
   ]
  },
  {
   "attachments": {},
   "cell_type": "markdown",
   "metadata": {
    "slideshow": {
     "slide_type": "fragment"
    }
   },
   "source": [
    "Also, in this case, one often needs machine learning techiques to first make sense of the data and then to optimize based on that information gathered. \n",
    "\n",
    "An example of this can be found in\n",
    "\n",
    " * <a href=\"https://link.springer.com/chapter/10.1007/978-3-030-13709-0_9\"> J. Hakanen et al., **Data-Driven Interactive Multiobjective Optimization Using a Cluster-Based Surrogate in a Discrete Decision Space**, In: Nicosia G., Pardalos P., Giuffrida G., Umeton R., Sciacca V. (eds) *Machine Learning, Optimization, and Data Science (LOD 2018)*, Springer, 104-115, 2019</a>\n",
    "    \n",
    "which was published in a onference series dedicated to combining machine learning and optimization: https://lod2019.icas.xyz/\n"
   ]
  },
  {
   "attachments": {},
   "cell_type": "markdown",
   "metadata": {
    "slideshow": {
     "slide_type": "subslide"
    }
   },
   "source": [
    "#### TIES5830 Data-driven Optimization and Decision Making (5 credits)\n",
    "\n",
    "**Will be delivered next period (19.3-23.5.2022)- registere by 12.3.2024**\n",
    "\n",
    "Here is the announcement: "
   ]
  },
  {
   "attachments": {},
   "cell_type": "markdown",
   "metadata": {},
   "source": [
    "Thanks to digitalization, data is collected in many fields. One can try to understand underlying phenomena or make forecasts based on data. The most advanced form is prescriptive (or decision) analytics, where decisions and suggestions are made based on data to meet desired objectives. For such data-driven decision support, we can formulate optimization problems based on data and solve them with appropriate (multiobjective) optimization methods. The application fields are many: ranging from forest treatment planning to forensics and inventory management to maintenance. If you are interested in analytics in practice and learning skills for making decisions based on data, this is a course for you. The Multiobjective Optimization Group responsible for the course is well-known in the field. \n",
    "  \n",
    "Credits: 5  \n",
    " \n",
    "Sisu: https://sisu.jyu.fi/student/courseunit/otm-7a7171d1-1009-467e-b037-1de12dc2db28/brochure \n",
    " \n",
    "**Dates: March 19 – May 23, 2024**\n",
    " \n",
    "Lecturers: Bhupinder Saini, Babooshka Shavazipour, Michael Emmerich, Juuso Pajasmaa, Giovanni Misitano, (Kaisa Miettinen) and a visiting lecturer \n",
    " \n",
    "**Register by March 12, 2024**\n",
    " \n",
    "Prerequisites: Programming skills (preferably Python but not mandatory), basics of optimization (e.g., the Nonlinear Optimization course---TIES483), machine learning, and numerical methods. Completing the courses TIES598 (Nonlinear Multiobjective Optimization) and TIES451 (Selected Topics in Soft Computing) is beneficial. \n",
    " \n",
    "Learning outcomes: The course takes the students to the forefront of current knowledge in data-driven multiobjective optimization and analytics in decision-making. During the course, students will familiarize themselves with novel methods recently proposed in the scientific community. The course also gives students an opportunity to get acquainted with the DESDEO software framework (open-source code) and solve real-world data-driven optimization problems. Covered topics include, among others, data analysis, surrogate models, data-driven multiobjective optimization, Bayesian optimization, decision support, and visualization support. \n",
    " \n",
    "More information: TIES5830 Data-driven optimization and decision making is a master level (advanced) course in mathematical information technology (tietotekniikka in Finnish) (applicable also for doctoral students) where the emphasis is on solving data-driven optimization problems. We cover various aspects: problems where we have to solely rely on past data with no new information, problems where new information comes at a large cost, real-life applications, and supporting human decision-makers in choosing the best solution. The course is suitable e.g., as an optional MSc course in computational sciences and the thematic module on decision analytics. The course introduces various optimization methods and software with some theoretical foundations. In addition, many practical examples will be considered demonstrating the potential of multiobjective optimization tools. Different challenges of practical problems are also addressed, including visualizing the relevant information to support the decision maker. The course is a project-based course, supported with lectures, assignments and discussion sessions. The students can choose the topic, application area, and data for the project. \n",
    " \n",
    "Completion methods: Attend lectures and discussion sessions, complete assignments and the project (including reporting at intermediate stages and final report). Attendance during lectures and discussion sessions is required. More information will be provided during the first lecture session. \n",
    "  \n",
    "Welcome! \n"
   ]
  },
  {
   "attachments": {},
   "cell_type": "markdown",
   "metadata": {
    "slideshow": {
     "slide_type": "subslide"
    }
   },
   "source": [
    "This year in the JYU Summer School, there will be multiple courses \n",
    "\n",
    "***COM2: Beyond Conventional Optimisation: Data-Driven Multi-Objective Bayesian Optimisation (2/4 credits)*** \n",
    "\n",
    "* Lecturer: Dr. Tinkle Chugh (University of Exeter, UK)\n",
    "* 12.-16.8.2024\n",
    "\n",
    "* Application round has just opened on 1 March\n",
    "* JYU students can register directly through SISU\n",
    "\n",
    "* More information at https://www.jyu.fi/en/study-with-us/summer-and-winter-schools/jyvaskyla-summer-school/jyvaskyla-summer-school-course-programme."
   ]
  },
  {
   "attachments": {},
   "cell_type": "markdown",
   "metadata": {},
   "source": [
    "***COM4: Multi Criteria Decision Analysis (MCDA) (2 credits)*** \n",
    "\n",
    "* Lecturer: Prof. Subhash Datta (Management Development Institute, Gurugram, India)\n",
    "* 5.-9.8.2024\n",
    "\n",
    "* Application round has just opened on 1 March\n",
    "* JYU students can register directly through SISU\n",
    "\n",
    "* More information at https://www.jyu.fi/en/study-with-us/summer-and-winter-schools/jyvaskyla-summer-school/jyvaskyla-summer-school-course-programme."
   ]
  },
  {
   "attachments": {},
   "cell_type": "markdown",
   "metadata": {
    "slideshow": {
     "slide_type": "subslide"
    }
   },
   "source": [
    "***TIES598 Nonlinear multiobjective optimization*** \n",
    "\n",
    "* Lectured last year (spring 2023) \n",
    "* To be Lectured next time in spring 2025\n"
   ]
  },
  {
   "attachments": {},
   "cell_type": "markdown",
   "metadata": {},
   "source": [
    "***TIES451 Selected Topics in Soft Computing (4 credits)*** \n",
    "\n",
    "* Lectured last semester (Autumn 2023) \n",
    "* To be Lectured next time (probably) in Autumn 2024/2025\n"
   ]
  },
  {
   "attachments": {},
   "cell_type": "markdown",
   "metadata": {
    "slideshow": {
     "slide_type": "slide"
    }
   },
   "source": [
    "## Multiobjective optimization and decision support systems"
   ]
  },
  {
   "attachments": {},
   "cell_type": "markdown",
   "metadata": {
    "slideshow": {
     "slide_type": "subslide"
    }
   },
   "source": [
    "**The whole point of optimization is to support decision making!**"
   ]
  },
  {
   "attachments": {},
   "cell_type": "markdown",
   "metadata": {
    "slideshow": {
     "slide_type": "fragment"
    }
   },
   "source": [
    "However,\n",
    "* most decision problems have multiple conflicting objectives, and\n",
    "* human beings are not rational decision makers."
   ]
  },
  {
   "attachments": {},
   "cell_type": "markdown",
   "metadata": {
    "slideshow": {
     "slide_type": "fragment"
    }
   },
   "source": [
    "First item needs methods to deal with multiple objectives.\n",
    "\n",
    "There are still a lot of unresolved questions in how the decision makers interact with optimization and, also, in just how to compute Pareto optimal solutions for complicated problems."
   ]
  },
  {
   "attachments": {},
   "cell_type": "markdown",
   "metadata": {
    "slideshow": {
     "slide_type": "subslide"
    }
   },
   "source": [
    "In addition, a user interface is a very important piece of a decision support system and should be taken into account for any implementation of multiobjective optimization methods. That enables interaction with a decision maker both in analysing the existing solutions and providing new preferences. The following aspects are emphasized in the user interface:\n",
    "* visualization techniques for solutions having a high number of objectives\n",
    "* linked visualizations that enable simultaneous analysis by using different types of visualizations\n",
    "* responsive and live interface\n",
    "\n",
    "Closely related to <a href=\"https://en.wikipedia.org/wiki/Visual_analytics\">Visual Analytics</a>. The following paper describes visual analytics in more details: \n",
    "\n",
    "<a href=\"https://link.springer.com/chapter/10.1007/978-3-540-70956-5_7\"> D. Keim et al., **Visual Analytics: Definition, Process, and Challenges**, In: A. Kerren et al. (eds) *Information Visualization*, 154-175, Springer, 2008</a>\n",
    "\n",
    "* Also check the following paper that has published recently:\n",
    "* <a href=\"https://jyx.jyu.fi/handle/123456789/70681\"> Hakanen, J., Miettinen, K., Matkovic, K., Task-based Visual Analytics for Interactive Multiobjective Optimization, Journal of the Operational Research Society, 72(9), 2073-2090, 2021.</a>"
   ]
  },
  {
   "attachments": {},
   "cell_type": "markdown",
   "metadata": {
    "slideshow": {
     "slide_type": "slide"
    }
   },
   "source": [
    "## A screenshot of a user interface\n",
    "\n",
    "![alt text](images/Teaser_With_Orange.png \"User interface\")"
   ]
  },
  {
   "attachments": {},
   "cell_type": "markdown",
   "metadata": {
    "slideshow": {
     "slide_type": "subslide"
    }
   },
   "source": [
    "Second item (*human beings are not rational decision makers*) needs a completely separate type of research.\n",
    "\n",
    "In fact, it has been shown that most of the decision making that humans do, is dictated by feelings.\n",
    "\n",
    "Thus, one needs to take into account human beings as complete beings.\n",
    "\n",
    "**This is studied in <a href=\"https://en.wikipedia.org/wiki/Behavioral_operations_management\">behavioural operations research</a>**"
   ]
  },
  {
   "attachments": {},
   "cell_type": "markdown",
   "metadata": {
    "slideshow": {
     "slide_type": "subslide"
    }
   },
   "source": [
    "## Further reading\n",
    "* Multiobjective optimization e.g., in a recent paper by Kaisa Miettinen and others\n",
    "\n",
    "  * <a href=\"http://dx.doi.org/10.1007/s11573-015-0786-0\">K. Miettinen and F. Ruiz, **NAUTILUS framework: towards trade-off-free interaction in multiobjective optimization**, *Journal of Business Economics*, 86, 5–21, 2016</a>\n",
    "\n",
    "* Behavioral aspects have been studied e.g., in a paper\n",
    "\n",
    " * <a href=\"http://www.sciencedirect.com/science/article/pii/S0167487015001427\">N. Ravaja et al., **Emotional–motivational responses predicting choices: The role of asymmetrical frontal cortical activity**, *Journal of Economic Psychology*, 52, 56-70, 2016</a>"
   ]
  },
  {
   "attachments": {},
   "cell_type": "markdown",
   "metadata": {
    "slideshow": {
     "slide_type": "fragment"
    }
   },
   "source": [
    "Good books on decision making (written for laymen):\n",
    "* Daniel Kahneman: *Thinking fast and slow*\n",
    "www.nytimes.com/2011/11/27/books/review/thinking-fast-and-slow-by-daniel-kahneman-book-review.html\n",
    "* Dan Ariely: *Predictably irrational*\n",
    "http://danariely.com/books/predictably-irrational/\n"
   ]
  },
  {
   "attachments": {},
   "cell_type": "markdown",
   "metadata": {
    "slideshow": {
     "slide_type": "fragment"
    }
   },
   "source": [
    "Two articles on machine decision makers that try to mimic human DMs:\n",
    "* <a href=\"https://link.springer.com/chapter/10.1007/978-3-319-15892-1_20\">M. López-Ibáñez and J. Knowles, **Machine Decision Makers as a Laboratory for interactive EMO**, In: A. Gaspar-Cunha et al. (eds) *Evolutionary Multi-Criterion Optimization (EMO 2015)*, 295-309, Springer, 2015</a>\n",
    "* <a href=\"https://link.springer.com/chapter/10.1007/978-3-319-45823-6_45\"> V. Ojalehto et al., **Towards Automatic Testing of Reference Point Based Interactive Methods**, In: J. Handl et al. (eds) *Parallel Problem Solving from Nature – (PPSN 2016), 483-492, Springer, 2016</a>"
   ]
  },
  {
   "attachments": {},
   "cell_type": "markdown",
   "metadata": {
    "slideshow": {
     "slide_type": "slide"
    }
   },
   "source": [
    "### TIES483 Nonlinear optimization\n",
    "#### Wrap up"
   ]
  },
  {
   "attachments": {},
   "cell_type": "markdown",
   "metadata": {
    "slideshow": {
     "slide_type": "-"
    }
   },
   "source": [
    "![](images/wrap-up1.jpg)"
   ]
  },
  {
   "attachments": {},
   "cell_type": "markdown",
   "metadata": {
    "slideshow": {
     "slide_type": "slide"
    }
   },
   "source": [
    "![](images/wrap-up2.jpg)"
   ]
  },
  {
   "attachments": {},
   "cell_type": "markdown",
   "metadata": {
    "slideshow": {
     "slide_type": "slide"
    }
   },
   "source": [
    "![](images/wrap-up3.jpg)"
   ]
  },
  {
   "attachments": {},
   "cell_type": "markdown",
   "metadata": {
    "slideshow": {
     "slide_type": "slide"
    }
   },
   "source": [
    "* We also talked about **uncertainty handling**\n",
    "* **Stochastic** optimization\n",
    "* **Robust** optimization and \n",
    "* Decision making under **deep uncertainty**"
   ]
  }
 ],
 "metadata": {
  "anaconda-cloud": {},
  "celltoolbar": "Slideshow",
  "kernelspec": {
   "display_name": "Python 3",
   "language": "python",
   "name": "python3"
  },
  "language_info": {
   "codemirror_mode": {
    "name": "ipython",
    "version": 3
   },
   "file_extension": ".py",
   "mimetype": "text/x-python",
   "name": "python",
   "nbconvert_exporter": "python",
   "pygments_lexer": "ipython3",
   "version": "3.8.8"
  }
 },
 "nbformat": 4,
 "nbformat_minor": 1
}
